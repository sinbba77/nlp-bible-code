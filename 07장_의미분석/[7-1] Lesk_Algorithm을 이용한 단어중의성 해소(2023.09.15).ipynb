{
  "nbformat": 4,
  "nbformat_minor": 0,
  "metadata": {
    "colab": {
      "name": "Lesk_Algorithm_실습.ipynb",
      "provenance": []
    },
    "kernelspec": {
      "name": "python3",
      "display_name": "Python 3"
    }
  },
  "cells": [
    {
      "cell_type": "markdown",
      "metadata": {
        "id": "2V5YBS-bs3gW"
      },
      "source": [
        "***nltk 패키지 다운로드***"
      ]
    },
    {
      "cell_type": "code",
      "metadata": {
        "id": "AzwbJnE-siDh",
        "outputId": "61594a4a-e76b-45f1-8de5-37e884e1a59f",
        "colab": {
          "base_uri": "https://localhost:8080/",
          "height": 338
        }
      },
      "source": [
        "!pip install --user -U nltk"
      ],
      "execution_count": 18,
      "outputs": [
        {
          "output_type": "stream",
          "name": "stdout",
          "text": [
            "Requirement already satisfied: nltk in /usr/local/lib/python3.10/dist-packages (3.3)\n",
            "Collecting nltk\n",
            "  Downloading nltk-3.8.1-py3-none-any.whl (1.5 MB)\n",
            "\u001b[2K     \u001b[90m━━━━━━━━━━━━━━━━━━━━━━━━━━━━━━━━━━━━━━━━\u001b[0m \u001b[32m1.5/1.5 MB\u001b[0m \u001b[31m6.8 MB/s\u001b[0m eta \u001b[36m0:00:00\u001b[0m\n",
            "\u001b[?25hRequirement already satisfied: click in /usr/local/lib/python3.10/dist-packages (from nltk) (8.1.7)\n",
            "Requirement already satisfied: joblib in /usr/local/lib/python3.10/dist-packages (from nltk) (1.3.2)\n",
            "Requirement already satisfied: regex>=2021.8.3 in /usr/local/lib/python3.10/dist-packages (from nltk) (2023.6.3)\n",
            "Requirement already satisfied: tqdm in /usr/local/lib/python3.10/dist-packages (from nltk) (4.66.1)\n",
            "Installing collected packages: nltk\n",
            "\u001b[33m  WARNING: The script nltk is installed in '/root/.local/bin' which is not on PATH.\n",
            "  Consider adding this directory to PATH or, if you prefer to suppress this warning, use --no-warn-script-location.\u001b[0m\u001b[33m\n",
            "\u001b[0mSuccessfully installed nltk-3.8.1\n"
          ]
        },
        {
          "output_type": "display_data",
          "data": {
            "application/vnd.colab-display-data+json": {
              "pip_warning": {
                "packages": [
                  "nltk"
                ]
              }
            }
          },
          "metadata": {}
        }
      ]
    },
    {
      "cell_type": "markdown",
      "source": [
        "**wordnet 사용방법**:\n",
        "Natural Language Toolkit (NLTK) 라이브러리를 사용한 예제"
      ],
      "metadata": {
        "id": "1k3ob7cFSafI"
      }
    },
    {
      "cell_type": "code",
      "source": [
        "import nltk\n",
        "nltk.download('wordnet')"
      ],
      "metadata": {
        "colab": {
          "base_uri": "https://localhost:8080/"
        },
        "id": "chdRdtQpS2V2",
        "outputId": "4254daa2-b33f-4fa8-a6ed-0441a4cb3e13"
      },
      "execution_count": 1,
      "outputs": [
        {
          "output_type": "stream",
          "name": "stderr",
          "text": [
            "[nltk_data] Downloading package wordnet to /root/nltk_data...\n",
            "[nltk_data]   Package wordnet is already up-to-date!\n"
          ]
        },
        {
          "output_type": "execute_result",
          "data": {
            "text/plain": [
              "True"
            ]
          },
          "metadata": {},
          "execution_count": 1
        }
      ]
    },
    {
      "cell_type": "code",
      "source": [
        "from nltk.corpus import wordnet\n",
        "\n",
        "# 'dog'라는 단어의 synset 가져오기\n",
        "\n",
        "synsets = wordnet.synsets('dog')\n",
        "\n",
        "# 첫 번째 synset의 정의 확인\n",
        "print(\"dog의 정의:\", synsets[0].definition())"
      ],
      "metadata": {
        "colab": {
          "base_uri": "https://localhost:8080/"
        },
        "id": "RR4OSBNnSg1b",
        "outputId": "023998a6-1788-427b-8f5b-c12f4bc66d9c"
      },
      "execution_count": 2,
      "outputs": [
        {
          "output_type": "stream",
          "name": "stdout",
          "text": [
            "dog의 정의: a member of the genus Canis (probably descended from the common wolf) that has been domesticated by man since prehistoric times; occurs in many breeds\n"
          ]
        }
      ]
    },
    {
      "cell_type": "code",
      "source": [
        "# 'happy'라는 단어의 synset 가져오기\n",
        "happy_synsets = wordnet.synsets('happy')\n",
        "\n",
        "# 동의어 확인\n",
        "print(\"happy의 동의어:\", [lemma.name() for synset in happy_synsets for lemma in synset.lemmas()])\n",
        "\n",
        "# 반의어 확인\n",
        "print(\"happy의 반의어:\", [lemma.antonyms()[0].name() for synset in happy_synsets for lemma in synset.lemmas() if lemma.antonyms()])"
      ],
      "metadata": {
        "colab": {
          "base_uri": "https://localhost:8080/"
        },
        "id": "Jtr_2sZ6Vax9",
        "outputId": "6eeacfa0-a2c5-4bdf-d35c-b852db311b4e"
      },
      "execution_count": 3,
      "outputs": [
        {
          "output_type": "stream",
          "name": "stdout",
          "text": [
            "happy의 동의어: ['happy', 'felicitous', 'happy', 'glad', 'happy', 'happy', 'well-chosen']\n",
            "happy의 반의어: ['unhappy']\n"
          ]
        }
      ]
    },
    {
      "cell_type": "code",
      "source": [
        "# 'dog'의 상위어 (hypernyms) 확인\n",
        "dog_synset = synsets[0]\n",
        "hypernyms = dog_synset.hypernyms()\n",
        "print(\"dog의 상위어:\", [hypernym.name() for hypernym in hypernyms])\n",
        "\n",
        "# 'dog'의 하위어 (hyponyms) 확인\n",
        "hyponyms = dog_synset.hyponyms()\n",
        "print(\"dog의 하위어:\", [hyponym.name() for hyponym in hyponyms])"
      ],
      "metadata": {
        "colab": {
          "base_uri": "https://localhost:8080/"
        },
        "id": "uvvUTJjMVj4T",
        "outputId": "4cc64cc7-c791-42b3-fe29-7112af90f72a"
      },
      "execution_count": 4,
      "outputs": [
        {
          "output_type": "stream",
          "name": "stdout",
          "text": [
            "dog의 상위어: ['canine.n.02', 'domestic_animal.n.01']\n",
            "dog의 하위어: ['basenji.n.01', 'corgi.n.01', 'cur.n.01', 'dalmatian.n.02', 'great_pyrenees.n.01', 'griffon.n.02', 'hunting_dog.n.01', 'lapdog.n.01', 'leonberg.n.01', 'mexican_hairless.n.01', 'newfoundland.n.01', 'pooch.n.01', 'poodle.n.01', 'pug.n.01', 'puppy.n.01', 'spitz.n.01', 'toy_dog.n.01', 'working_dog.n.01']\n"
          ]
        }
      ]
    },
    {
      "cell_type": "markdown",
      "metadata": {
        "id": "Po12R4oGtz6S"
      },
      "source": [
        "***wordnet 관련 패키지 nltk import***"
      ]
    },
    {
      "cell_type": "code",
      "metadata": {
        "id": "SknqGJv6tCW-"
      },
      "source": [
        "import nltk\n",
        "nltk.download('wordnet')\n",
        "nltk.download('punkt')\n",
        "nltk.download('stopwords')\n",
        "from nltk.corpus import wordnet\n",
        "from nltk import word_tokenize\n",
        "from nltk.corpus import stopwords\n",
        "import sys"
      ],
      "execution_count": null,
      "outputs": []
    },
    {
      "cell_type": "markdown",
      "metadata": {
        "id": "uCfx2tE3uOVe"
      },
      "source": [
        "***단어와  문장에 나타난 단어에 대해  Best Sense 추출***"
      ]
    },
    {
      "cell_type": "code",
      "metadata": {
        "id": "8I3ysskcBpYI"
      },
      "source": [
        "def disambiguate(word, sentence, stopwords):\n",
        "        # Best sense 를 얻기위한 Lesk 알고리즘\n",
        "\n",
        "        word_senses = wordnet.synsets(word)\n",
        "        best_sense = word_senses[0]  # Assume that first sense is most freq.\n",
        "        max_overlap = 0\n",
        "        context = set(word_tokenize(sentence))\n",
        "        for sense in word_senses:\n",
        "            signature = tokenized_gloss(sense)\n",
        "            overlap = compute_overlap(signature, context, stopwords)\n",
        "            if overlap > max_overlap:\n",
        "                max_overlap = overlap\n",
        "                best_sense = sense\n",
        "\n",
        "        return best_sense"
      ],
      "execution_count": 43,
      "outputs": []
    },
    {
      "cell_type": "markdown",
      "metadata": {
        "id": "olCLCgPeBv76"
      },
      "source": [
        "***sense의 definition에 대한 모든 token 추출***"
      ]
    },
    {
      "cell_type": "code",
      "metadata": {
        "id": "8GrMe88tC1SM"
      },
      "source": [
        "def tokenized_gloss(sense):\n",
        "        tokens = set(word_tokenize(sense.definition()))\n",
        "        for example in sense.examples():\n",
        "            tokens.union(set(word_tokenize(example)))\n",
        "        return tokens"
      ],
      "execution_count": 44,
      "outputs": []
    },
    {
      "cell_type": "markdown",
      "metadata": {
        "id": "Kk0kzsW6BwvS"
      },
      "source": [
        "***겹치는 단어 비교***"
      ]
    },
    {
      "cell_type": "code",
      "metadata": {
        "id": "gcduxEp5DH-T"
      },
      "source": [
        "def compute_overlap(signature, context, stopwords):\n",
        "        gloss = signature.difference(stopwords)\n",
        "        return len(gloss.intersection(context))"
      ],
      "execution_count": 45,
      "outputs": []
    },
    {
      "cell_type": "markdown",
      "metadata": {
        "id": "_WbpC6W6uXDz"
      },
      "source": [
        "***Main***"
      ]
    },
    {
      "cell_type": "code",
      "metadata": {
        "id": "xdqUjnqLuZJh",
        "outputId": "89b762f9-2102-4c09-e129-6ebbd6f51e67",
        "colab": {
          "base_uri": "https://localhost:8080/"
        }
      },
      "source": [
        "# NLTK에서 지정한 영어 불용어 처리 ex) i, my, they...\n",
        "stopwords = set(stopwords.words('english'))\n",
        "sentence = (\"They eat a meal\")\n",
        "context = set(word_tokenize(sentence))\n",
        "word = 'eat'\n",
        "\n",
        "print(\"Word :\", word)\n",
        "\n",
        "# eat의 2번째 의미와 입력 문장 'sentence' 문맥과의 중복도 계산\n",
        "syn = wordnet.synsets('eat')[1]\n",
        "print(\"Sense :\", syn.name())\n",
        "print(\"Definition :\", syn.definition())\n",
        "print(\"Sentence :\", sentence)\n",
        "\n",
        "signature = tokenized_gloss(syn)\n",
        "print(signature)\n",
        "print(compute_overlap(signature, context, stopwords))\n",
        "\n",
        "# 입력 문장 'sentence'에서 'eat'의 가장 적합한 의미를 선택\n",
        "print(\"Best sense: \", disambiguate(word, sentence, stopwords))"
      ],
      "execution_count": 46,
      "outputs": [
        {
          "output_type": "stream",
          "name": "stdout",
          "text": [
            "Word : eat\n",
            "Sense : eat.v.02\n",
            "Definition : eat a meal; take a meal\n",
            "Sentence : They eat a meal\n",
            "{'eat', 'take', ';', 'meal', 'a'}\n",
            "2\n",
            "Best sense:  Synset('eat.v.02')\n"
          ]
        }
      ]
    }
  ]
}