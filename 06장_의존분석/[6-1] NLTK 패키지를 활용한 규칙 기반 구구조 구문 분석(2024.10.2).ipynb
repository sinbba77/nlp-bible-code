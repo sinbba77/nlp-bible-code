{
  "nbformat": 4,
  "nbformat_minor": 0,
  "metadata": {
    "colab": {
      "name": "20191212 자연어처리 교재(실습)_6장_구문분석_.ipynb",
      "provenance": []
    },
    "kernelspec": {
      "name": "python3",
      "display_name": "Python 3"
    }
  },
  "cells": [
    {
      "cell_type": "markdown",
      "metadata": {
        "id": "yYEltijB06ZT"
      },
      "source": [
        "NLTK 패키지 다운로드"
      ]
    },
    {
      "cell_type": "code",
      "metadata": {
        "id": "KHM-uMujtVMa",
        "colab": {
          "base_uri": "https://localhost:8080/"
        },
        "outputId": "e317be55-3661-4587-92cd-262d98aeaeb1"
      },
      "source": [
        "!pip install nltk"
      ],
      "execution_count": 15,
      "outputs": [
        {
          "output_type": "stream",
          "name": "stdout",
          "text": [
            "Requirement already satisfied: nltk in /usr/local/lib/python3.10/dist-packages (3.3)\n",
            "Requirement already satisfied: six in /usr/local/lib/python3.10/dist-packages (from nltk) (1.16.0)\n"
          ]
        }
      ]
    },
    {
      "cell_type": "code",
      "metadata": {
        "id": "V3qhCA7E1KM7"
      },
      "source": [
        "import nltk"
      ],
      "execution_count": 16,
      "outputs": []
    },
    {
      "cell_type": "markdown",
      "metadata": {
        "id": "PnPk00ii1v2M"
      },
      "source": [
        "## [예제1] 구구조 구문 분석 규칙 작성\n",
        "문법 설명:\n",
        "\n",
        "- S: 문장(Sentence)\n",
        "- NP: 명사구(Noun Phrase)\n",
        "- VP: 동사구(Verb Phrase)\n",
        "- PP: 전치사구(Prepositional Phrase)\n",
        "- Det: 한정사(Determiner)\n",
        "- N: 명사(Noun)\n",
        "- V: 동사(Verb)\n",
        "- P: 전치사(Preposition)"
      ]
    },
    {
      "cell_type": "code",
      "metadata": {
        "id": "qRi1nlY-147c"
      },
      "source": [
        "grammar = nltk.CFG.fromstring(\"\"\"\n",
        "S -> NP VP\n",
        "NP -> NN XSN JK | NN JK\n",
        "VP -> NP VP | VV EP EF\n",
        "NN -> '아이' | '케이크'\n",
        "XSN -> '들'\n",
        "JK -> '이' | '를'\n",
        "VV -> '먹'\n",
        "EP -> '었'\n",
        "EF -> '다'\n",
        "\"\"\")"
      ],
      "execution_count": null,
      "outputs": []
    },
    {
      "cell_type": "markdown",
      "metadata": {
        "id": "M3LzGE3h2n4Y"
      },
      "source": [
        "규칙 기반 구문 분석기 생성 및 구구조 구문 분석 수행\n",
        "\n",
        "제시된 ChartParser 외에도 ShiftReduceParser, RecursiveDescentParser 등\n",
        "\n",
        "다양한 구문 분석 알고리즘이 제공된다."
      ]
    },
    {
      "cell_type": "code",
      "metadata": {
        "id": "P1GVyHyo3LJN"
      },
      "source": [
        "parser = nltk.ChartParser(grammar)"
      ],
      "execution_count": null,
      "outputs": []
    },
    {
      "cell_type": "code",
      "metadata": {
        "id": "dGcLUDfj3SZP"
      },
      "source": [
        "sent = ['아이', '들', '이', '케이크', '를', '먹', '었', '다']"
      ],
      "execution_count": null,
      "outputs": []
    },
    {
      "cell_type": "code",
      "metadata": {
        "id": "z_8CRCs03gxw",
        "colab": {
          "base_uri": "https://localhost:8080/",
          "height": 69
        },
        "outputId": "85e05c90-2adb-4ad4-8fd8-d1899813d851"
      },
      "source": [
        "for tree in parser.parse(sent):\n",
        "  print(tree)"
      ],
      "execution_count": null,
      "outputs": [
        {
          "output_type": "stream",
          "text": [
            "(S\n",
            "  (NP (NN 아이) (XSN 들) (JK 이))\n",
            "  (VP (NP (NN 케이크) (JK 를)) (VP (VV 먹) (EP 었) (EF 다))))\n"
          ],
          "name": "stdout"
        }
      ]
    },
    {
      "cell_type": "code",
      "source": [
        "# 파싱 결과 출력\n",
        "for tree in parses:\n",
        "    print(tree)\n",
        "    tree.pretty_print()"
      ],
      "metadata": {
        "id": "_uI0xuQyaiSX",
        "outputId": "41674175-0165-496f-ea17-1e8d03ab7484",
        "colab": {
          "base_uri": "https://localhost:8080/"
        }
      },
      "execution_count": 43,
      "outputs": [
        {
          "output_type": "stream",
          "name": "stdout",
          "text": [
            "(S\n",
            "  (NP (Det the) (N man))\n",
            "  (VP\n",
            "    (VP (V saw) (NP (Det the) (N dog)))\n",
            "    (PP (P with) (NP (Det the) (N telescope)))))\n",
            "                 S                                \n",
            "      ___________|_______                          \n",
            "     |                   VP                       \n",
            "     |            _______|________                 \n",
            "     |           VP               PP              \n",
            "     |        ___|___         ____|___             \n",
            "     NP      |       NP      |        NP          \n",
            "  ___|___    |    ___|___    |     ___|______      \n",
            "Det      N   V  Det      N   P   Det         N    \n",
            " |       |   |   |       |   |    |          |     \n",
            "the     man saw the     dog with the     telescope\n",
            "\n"
          ]
        }
      ]
    },
    {
      "cell_type": "markdown",
      "source": [
        "- 만약, cgi 임포트 에러가 나면 아래와 같이 'cgi'를 'html'로 [링크 텍스트](https://)수정\n",
        "\n",
        "![image.png](data:image/png;base64,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)"
      ],
      "metadata": {
        "id": "DUPzznk7Y4kZ"
      }
    },
    {
      "cell_type": "markdown",
      "source": [
        "## [예제2] 간단한 영어 문장을 파싱하기 위한 문맥자유문법(CFG) 정의\n",
        "문법 설명:\n",
        "\n",
        "- S: 문장(Sentence)\n",
        "- NP: 명사구(Noun Phrase)\n",
        "- VP: 동사구(Verb Phrase)\n",
        "- PP: 전치사구(Prepositional Phrase)\n",
        "- Det: 한정사(Determiner)\n",
        "- N: 명사(Noun)\n",
        "- V: 동사(Verb)\n",
        "- P: 전치사(Preposition)"
      ],
      "metadata": {
        "id": "pu8ZsDg1V0JN"
      }
    },
    {
      "cell_type": "code",
      "source": [
        "grammar = nltk.CFG.fromstring(\"\"\"\n",
        "    S -> NP VP\n",
        "    NP -> Det N | N\n",
        "    VP -> V NP | VP PP | V\n",
        "    PP -> P NP\n",
        "    Det -> 'the' | 'a'\n",
        "    N -> 'cat' | 'dog' | 'man' | 'telescope'\n",
        "    V -> 'saw' | 'walked'\n",
        "    P -> 'with' | 'in'\n",
        "\"\"\")"
      ],
      "metadata": {
        "id": "Ib94aOH8VJvA"
      },
      "execution_count": 17,
      "outputs": []
    },
    {
      "cell_type": "code",
      "source": [
        "parser = nltk.ChartParser(grammar)  # 정의한 문법을 사용하여 Chart Parser 생성"
      ],
      "metadata": {
        "id": "-B8PirFsWMqv"
      },
      "execution_count": 18,
      "outputs": []
    },
    {
      "cell_type": "code",
      "source": [
        "# 파싱할 문장을 토큰화하여 리스트로 준비\n",
        "sentence = \"the man saw the dog with the telescope\".split()"
      ],
      "metadata": {
        "id": "e5-ya_n4WnKz"
      },
      "execution_count": 19,
      "outputs": []
    },
    {
      "cell_type": "markdown",
      "source": [],
      "metadata": {
        "id": "Tq0nAwEVZAkL"
      }
    },
    {
      "cell_type": "code",
      "source": [],
      "metadata": {
        "id": "P0-ig3fdZDya"
      },
      "execution_count": null,
      "outputs": []
    },
    {
      "cell_type": "code",
      "source": [
        "# Chart Parser를 사용하여 문장 파싱\n",
        "parses = list(parser.parse(sentence))"
      ],
      "metadata": {
        "id": "g4x_ZqzUWtvm"
      },
      "execution_count": 27,
      "outputs": []
    },
    {
      "cell_type": "code",
      "source": [
        "# 파싱 결과 출력\n",
        "for tree in parses:\n",
        "    print(tree)\n",
        "    tree.pretty_print()"
      ],
      "metadata": {
        "id": "KFAy9os9Wz-T",
        "outputId": "114bf7a4-fbd6-4151-befa-e92580bc3d12",
        "colab": {
          "base_uri": "https://localhost:8080/"
        }
      },
      "execution_count": 29,
      "outputs": [
        {
          "output_type": "stream",
          "name": "stdout",
          "text": [
            "(S\n",
            "  (NP (Det the) (N man))\n",
            "  (VP\n",
            "    (VP (V saw) (NP (Det the) (N dog)))\n",
            "    (PP (P with) (NP (Det the) (N telescope)))))\n",
            "                 S                                \n",
            "      ___________|_______                          \n",
            "     |                   VP                       \n",
            "     |            _______|________                 \n",
            "     |           VP               PP              \n",
            "     |        ___|___         ____|___             \n",
            "     NP      |       NP      |        NP          \n",
            "  ___|___    |    ___|___    |     ___|______      \n",
            "Det      N   V  Det      N   P   Det         N    \n",
            " |       |   |   |       |   |    |          |     \n",
            "the     man saw the     dog with the     telescope\n",
            "\n"
          ]
        }
      ]
    }
  ]
}